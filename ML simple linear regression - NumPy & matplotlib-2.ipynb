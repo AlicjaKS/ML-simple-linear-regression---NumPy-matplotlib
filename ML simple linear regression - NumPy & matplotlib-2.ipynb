{
 "cells": [
  {
   "cell_type": "markdown",
   "metadata": {},
   "source": [
    "If you don't have installed jupyter notebook you can run this code online here: \n",
    "\n",
    "\n",
    "https://jupyter.org/try\n",
    "\n",
    "1. Choose JupyterLab\n",
    "2. Choose python 3 \n",
    "3. Load this file just by dropping it in place where are other sample files \n",
    "\n"
   ]
  },
  {
   "cell_type": "code",
   "execution_count": 1,
   "metadata": {},
   "outputs": [],
   "source": [
    "import numpy as np \n",
    "import matplotlib.pyplot as plt\n",
    "from mpl_toolkits.mplot3d import Axes3D"
   ]
  },
  {
   "cell_type": "markdown",
   "metadata": {},
   "source": [
    "### Generate random input data to train on \n",
    "Essentialy, we will create \"fake\" data with a linear relationship "
   ]
  },
  {
   "cell_type": "code",
   "execution_count": 2,
   "metadata": {},
   "outputs": [],
   "source": [
    "observations = 10000\n",
    "xs = np.random.uniform(low=-10, high=10, size=(observations,1))\n",
    "zs = np.random.uniform(-10,10,(observations,1))\n",
    "\n",
    "inputs = np.column_stack((xs,zs))"
   ]
  },
  {
   "cell_type": "markdown",
   "metadata": {},
   "source": [
    "np.random.uniform(low,high,size) draws a random value from the interval (low high), where each number has an equal chance to be selected"
   ]
  },
  {
   "cell_type": "markdown",
   "metadata": {},
   "source": [
    "np.column_stack((apropiate tuples)) - takes a sequence od 1D arrays and stack them into a single 2D array \n",
    "\n",
    "\n",
    "Robimy to, bo możemy mnożyć tylko matryce o takiej samej wymiarowości"
   ]
  },
  {
   "cell_type": "code",
   "execution_count": 3,
   "metadata": {},
   "outputs": [
    {
     "name": "stdout",
     "output_type": "stream",
     "text": [
      "(10000, 2)\n"
     ]
    }
   ],
   "source": [
    "print (inputs.shape)"
   ]
  },
  {
   "cell_type": "markdown",
   "metadata": {},
   "source": [
    "In supervised learning we have to know: \n",
    "inputs and targets "
   ]
  },
  {
   "cell_type": "markdown",
   "metadata": {},
   "source": [
    "weights and biases are changeg by algorithm "
   ]
  },
  {
   "cell_type": "markdown",
   "metadata": {},
   "source": [
    "target = f(x,z) = 2 * x - 3 * z + 5 + noise "
   ]
  },
  {
   "cell_type": "code",
   "execution_count": 4,
   "metadata": {},
   "outputs": [],
   "source": [
    "# weights = 2 i -3 \n",
    "# bias = 5 \n",
    "# noise - randomized data "
   ]
  },
  {
   "cell_type": "code",
   "execution_count": 5,
   "metadata": {},
   "outputs": [
    {
     "name": "stdout",
     "output_type": "stream",
     "text": [
      "(10000, 1)\n"
     ]
    }
   ],
   "source": [
    "noise = np.random.uniform(-1,1,(observations,1))\n",
    "targets = 2 * xs - 3 * zs + 5 + noise \n",
    "\n",
    "print(targets.shape)"
   ]
  },
  {
   "cell_type": "markdown",
   "metadata": {},
   "source": [
    "### Plot the training data\n",
    "To see that there is a strong trend that our model should learn to reproduce"
   ]
  },
  {
   "cell_type": "code",
   "execution_count": 6,
   "metadata": {},
   "outputs": [
    {
     "data": {
      "image/png": "[encoded data removed]",
      "text/plain": [
       "<Figure size 432x288 with 1 Axes>"
      ]
     },
     "metadata": {
      "needs_background": "light"
     },
     "output_type": "display_data"
    }
   ],
   "source": [
    "targets = targets.reshape(observations,)\n",
    "fig = plt.figure()\n",
    "ax = fig.add_subplot(111, projection='3d')\n",
    "ax.plot(xs, zs, targets)\n",
    "ax.view_init(azim=100)\n",
    "plt.show()\n",
    "targets = targets.reshape(observations,1)"
   ]
  },
  {
   "cell_type": "markdown",
   "metadata": {},
   "source": [
    "We dont want to start fron any arbitrary number, rather, we randomly select some small initial weights "
   ]
  },
  {
   "cell_type": "markdown",
   "metadata": {},
   "source": [
    "### Initialize variables: "
   ]
  },
  {
   "cell_type": "code",
   "execution_count": 7,
   "metadata": {},
   "outputs": [],
   "source": [
    "init_range = 0.1 \n",
    "\n",
    "weights = np.random.uniform(-init_range, init_range, size=(2,1))\n",
    "#bo W to wektor 2x1 \n",
    "#dodajemy bias tak samo\n",
    "\n",
    "biases = np.random.uniform(-init_range, init_range, size=1)\n",
    "# 1 - bo biases jest scalarem \n",
    "# In ML there are as many biases as there are outputs"
   ]
  },
  {
   "cell_type": "code",
   "execution_count": 8,
   "metadata": {},
   "outputs": [
    {
     "name": "stdout",
     "output_type": "stream",
     "text": [
      "[[-0.00168135]\n",
      " [-0.05608132]]\n"
     ]
    }
   ],
   "source": [
    "print(weights)"
   ]
  },
  {
   "cell_type": "code",
   "execution_count": 9,
   "metadata": {},
   "outputs": [
    {
     "name": "stdout",
     "output_type": "stream",
     "text": [
      "[-0.01271659]\n"
     ]
    }
   ],
   "source": [
    "print(biases)"
   ]
  },
  {
   "cell_type": "markdown",
   "metadata": {},
   "source": [
    "Our initial weights and biases will be picked randomly from the interval [-0.1,01]"
   ]
  },
  {
   "cell_type": "markdown",
   "metadata": {},
   "source": [
    "### Set a learning rate: "
   ]
  },
  {
   "cell_type": "code",
   "execution_count": 10,
   "metadata": {},
   "outputs": [],
   "source": [
    "learning_rate = 0.02"
   ]
  },
  {
   "cell_type": "markdown",
   "metadata": {},
   "source": [
    "### Train the model:"
   ]
  },
  {
   "cell_type": "markdown",
   "metadata": {},
   "source": [
    "It have to be loop, because we will use rule of actualization:  "
   ]
  },
  {
   "cell_type": "markdown",
   "metadata": {},
   "source": [
    "np.dot(A,B) is a method used for multiplying matrices. Alteratively, we can use the A.dot(B) to perform the same operation "
   ]
  },
  {
   "cell_type": "code",
   "execution_count": 11,
   "metadata": {},
   "outputs": [
    {
     "name": "stdout",
     "output_type": "stream",
     "text": [
      "224.43815400005923\n",
      "35.72293882043951\n",
      "14.384665421859733\n",
      "11.612256226296202\n",
      "10.91405754235327\n",
      "10.461330220851794\n",
      "10.050689179357441\n",
      "9.658988373368787\n",
      "9.283094895430894\n",
      "8.922118403357993\n",
      "8.57543888979594\n",
      "8.242486989521094\n",
      "7.922718778763539\n",
      "7.6156121927585305\n",
      "7.3206658742721515\n",
      "7.0373983219024145\n",
      "6.7653471003348296\n",
      "6.5040680850049295\n",
      "6.2531347370178185\n",
      "6.012137406816859\n",
      "5.780682665428824\n",
      "5.55839266218965\n",
      "5.344904507901937\n",
      "5.139869682417072\n",
      "4.942953465674883\n",
      "4.753834391271986\n",
      "4.572203721666775\n",
      "4.397764944164323\n",
      "4.2302332868583745\n",
      "4.069335253740231\n",
      "3.914808178215576\n",
      "3.766399794300349\n",
      "3.6238678247956524\n",
      "3.4869795857694044\n",
      "3.355511606698991\n",
      "3.2292492656548917\n",
      "3.10798643892963\n",
      "2.9915251645401004\n",
      "2.8796753190539564\n",
      "2.7722543072124557\n",
      "2.6690867638430587\n",
      "2.5700042675751913\n",
      "2.4748450658917625\n",
      "2.383453811067636\n",
      "2.295681306563922\n",
      "2.211384263464119\n",
      "2.130425066554462\n",
      "2.0526715496666084\n",
      "1.977996779915913\n",
      "1.9062788504830601\n",
      "1.8374006816007524\n",
      "1.771249829420596\n",
      "1.7077183024481222\n",
      "1.6467023852463034\n",
      "1.5881024691197427\n",
      "1.531822889503139\n",
      "1.4777717697885506\n",
      "1.4258608713365113\n",
      "1.3760054494261604\n",
      "1.3281241149091774\n",
      "1.282138701341727\n",
      "1.2379741373774653\n",
      "1.1955583242133123\n",
      "1.1548220178879016\n",
      "1.1156987162405783\n",
      "1.0781245503463885\n",
      "1.0420381802498444\n",
      "1.0073806948272301\n",
      "0.9740955156139924\n",
      "0.9421283044401986\n",
      "0.9114268747232903\n",
      "0.8819411062733052\n",
      "0.8536228634714944\n",
      "0.82642591668876\n",
      "0.8003058668156208\n",
      "0.7752200727805219\n",
      "0.7511275819381303\n",
      "0.7279890632140038\n",
      "0.7057667428964752\n",
      "0.6844243429709378\n",
      "0.6639270218958602\n",
      "0.6442413177238517\n",
      "0.6253350934749193\n",
      "0.6071774846727308\n",
      "0.5897388489582549\n",
      "0.5729907176985083\n",
      "0.5569057495114111\n",
      "0.5414576856308913\n",
      "0.5266213070393517\n",
      "0.5123723932975417\n",
      "0.49868768300460614\n",
      "0.4855448358237666\n",
      "0.4729223960116435\n",
      "0.46079975739168594\n",
      "0.4491571297145102\n",
      "0.4379755063502571\n",
      "0.42723663326019495\n",
      "0.41692297919694665\n",
      "0.40701770708466056\n",
      "0.39750464653243134\n"
     ]
    }
   ],
   "source": [
    "for i in range (100): \n",
    "    outputs = np.dot(inputs, weights) + biases \n",
    "    deltas = outputs - targets \n",
    "    #deltas records the difference between output and targets \n",
    "    # we will use L2-norm loss / 2 \n",
    "    #np.sum(a) is a method that allows us to sum all the values in the array\n",
    "    loss = np.sum(deltas ** 2) / 2 / observations \n",
    "    #mean \n",
    "    \n",
    "    \n",
    "    print(loss)\n",
    "    #we print the loss at each step, as we want to keep an eye on whether it is decrasing\n",
    "    \n",
    "    deltas_scaled = deltas / observations \n",
    "    \n",
    "    weights = weights - learning_rate * np.dot(inputs.T , deltas_scaled)\n",
    "    #inputs.T is a method used for transposing matrices, inaczej nie możemy ich mnożyć \n",
    "    \n",
    "    biases = biases - learning_rate * np.sum(deltas_scaled)"
   ]
  },
  {
   "cell_type": "markdown",
   "metadata": {},
   "source": [
    "We have minimized (or almost) the loss w.r.t. the weights and the biases "
   ]
  },
  {
   "cell_type": "markdown",
   "metadata": {},
   "source": [
    "### print weights and biases and see if have worked correclty\n",
    "In the memory of computer, the variables: weights, biases and outputs contain their optimized values: those from the las iteration of the loop"
   ]
  },
  {
   "cell_type": "code",
   "execution_count": 12,
   "metadata": {},
   "outputs": [
    {
     "name": "stdout",
     "output_type": "stream",
     "text": [
      "[[ 2.00165483]\n",
      " [-3.0004657 ]] [4.34179362]\n"
     ]
    }
   ],
   "source": [
    "print(weights, biases)"
   ]
  },
  {
   "cell_type": "code",
   "execution_count": 16,
   "metadata": {},
   "outputs": [],
   "source": [
    "# first W - close to 2 \n",
    "# second W - close to -3 \n",
    "# biases - close to 5 "
   ]
  },
  {
   "cell_type": "code",
   "execution_count": 17,
   "metadata": {},
   "outputs": [],
   "source": [
    "# we can run loop once again with different parametrs to improve:"
   ]
  },
  {
   "cell_type": "code",
   "execution_count": 18,
   "metadata": {},
   "outputs": [
    {
     "name": "stdout",
     "output_type": "stream",
     "text": [
      "[[ 2.00165483]\n",
      " [-3.0004657 ]] [4.34179362]\n"
     ]
    }
   ],
   "source": [
    "print(weights, biases)"
   ]
  }
 ],
 "metadata": {
  "kernelspec": {
   "display_name": "Python 3",
   "language": "python",
   "name": "python3"
  },
  "language_info": {
   "codemirror_mode": {
    "name": "ipython",
    "version": 3
   },
   "file_extension": ".py",
   "mimetype": "text/x-python",
   "name": "python",
   "nbconvert_exporter": "python",
   "pygments_lexer": "ipython3",
   "version": "3.7.6"
  }
 },
 "nbformat": 4,
 "nbformat_minor": 2
}
